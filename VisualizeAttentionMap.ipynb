{
  "nbformat": 4,
  "nbformat_minor": 0,
  "metadata": {
    "colab": {
      "name": "VisualizeAttentionMap.ipynb",
      "provenance": [],
      "collapsed_sections": [],
      "toc_visible": true,
      "include_colab_link": true
    },
    "kernelspec": {
      "display_name": "Python 3",
      "name": "python3"
    },
    "accelerator": "GPU"
  },
  "cells": [
    {
      "cell_type": "markdown",
      "metadata": {
        "id": "view-in-github",
        "colab_type": "text"
      },
      "source": [
        "<a href=\"https://colab.research.google.com/github/jo1jun/Vision_Transformer/blob/main/VisualizeAttentionMap.ipynb\" target=\"_parent\"><img src=\"https://colab.research.google.com/assets/colab-badge.svg\" alt=\"Open In Colab\"/></a>"
      ]
    },
    {
      "cell_type": "markdown",
      "metadata": {
        "id": "UACotr_VetTr"
      },
      "source": [
        "# Import, device & dtype\n"
      ]
    },
    {
      "cell_type": "code",
      "metadata": {
        "colab": {
          "base_uri": "https://localhost:8080/"
        },
        "id": "SyKo5seMwjFs",
        "outputId": "9af8d7d4-1f7d-4e3b-b3ae-9dd451a6dfbb"
      },
      "source": [
        "import torch\n",
        "import torch.nn as nn\n",
        "import numpy as np\n",
        "import matplotlib.pyplot as plt\n",
        "\n",
        "device = torch.device('cuda' if torch.cuda.is_available() else 'cpu')\n",
        "dtype = torch.long\n",
        "\n",
        "% pip install einops\n",
        "\n",
        "from einops import rearrange, repeat, reduce\n",
        "from einops.layers.torch import Rearrange\n",
        "# tensor 연산을 간편하게 하기 위해 einops moudule import.\n",
        "# reference & tutorial : http://einops.rocks/pytorch-examples.html"
      ],
      "execution_count": 550,
      "outputs": [
        {
          "output_type": "stream",
          "text": [
            "Requirement already satisfied: einops in /usr/local/lib/python3.7/dist-packages (0.3.0)\n"
          ],
          "name": "stdout"
        }
      ]
    },
    {
      "cell_type": "markdown",
      "metadata": {
        "id": "IKyDkhQ4UNbF"
      },
      "source": [
        "# Multi Head Attention Layer"
      ]
    },
    {
      "cell_type": "code",
      "metadata": {
        "id": "ohBIfgOJiL0a"
      },
      "source": [
        "# 기존 구조와 동일. einops 활용.\n",
        "class MultiHeadAttentionLayer(nn.Module):\n",
        "    def __init__(self, d_model, nhead, dropout_ratio):\n",
        "        super().__init__()\n",
        "\n",
        "        self.d_model = d_model # embed dimension\n",
        "        self.nhead = nhead # head 수\n",
        "        self.head_dim = d_model // nhead # head 마다의 dimension\n",
        "\n",
        "        # paper 보면 d_model * d_k 이런 shape 인데, 실제 구현에서는 d_model * d_model 하고 나온 것을 쪼개서 multi head self attention 에 들어가게 함.\n",
        "        self.qLinear = nn.Linear(d_model, d_model) # query lineqr\n",
        "        self.kLinear = nn.Linear(d_model, d_model) # key linear\n",
        "        self.vLinear = nn.Linear(d_model, d_model) # value linear\n",
        "        self.oLinear = nn.Linear(d_model, d_model) # output linear\n",
        "\n",
        "        self.dropout = nn.Dropout(dropout_ratio)\n",
        "\n",
        "    def forward(self, query, key, value, mask = None):\n",
        "\n",
        "        batch_size = query.shape[0]\n",
        "        query_len = query.shape[1]\n",
        "        value_len = key_len = key.shape[1]\n",
        "\n",
        "        # query: [batch_size, query_len, d_model]\n",
        "        # key: [batch_size, key_len, d_model]\n",
        "        # value: [batch_size, value_len, d_model]\n",
        " \n",
        "        Q = self.qLinear(query)\n",
        "        K = self.kLinear(key)\n",
        "        V = self.vLinear(value)\n",
        "\n",
        "        # Q: [batch_size, query_len, d_model]\n",
        "        # K: [batch_size, key_len, d_model]\n",
        "        # V: [batch_size, value_len, d_model]\n",
        "\n",
        "        # d_model = nhead * head_dim\n",
        "        # head 수로 distribute\n",
        "        Q = rearrange(Q, 'b l (h d) -> b h l d', h=self.nhead)\n",
        "        K = rearrange(K, 'b l (h d) -> b h l d', h=self.nhead)\n",
        "        V = rearrange(V, 'b l (h d) -> b h l d', h=self.nhead)\n",
        "\n",
        "        # Q: [batch_size, nhead, query_len, head_dim]\n",
        "        # K: [batch_size, nhead, key_len, head_dim]\n",
        "        # V: [batch_size, nhead, value_len, head_dim]\n",
        "\n",
        "        # attention weight 계산\n",
        "        weight = torch.matmul(Q, rearrange(K, 'b h l d -> b h d l')) / np.sqrt(self.head_dim)\n",
        "\n",
        "        # weight: [batch_size, nhead, query_len, key_len]\n",
        "\n",
        "        attention = torch.softmax(weight, dim=-1) # TODO : softmax -1?\n",
        "\n",
        "        # attention: [batch_size, nhead, query_len, key_len]\n",
        "\n",
        "        # context vector 계산\n",
        "        c = torch.matmul(self.dropout(attention), V)\n",
        "\n",
        "        # c: [batch_size, nhead, query_len, head_dim]\n",
        "\n",
        "        # reshape & concat\n",
        "        c = rearrange(c, 'b h l d -> b l (h d)')\n",
        "\n",
        "        # c: [batch_size, query_len, d_model]\n",
        "\n",
        "        output = self.oLinear(c)\n",
        "\n",
        "        # output: [batch_size, query_len, d_model]\n",
        "\n",
        "        return output, attention"
      ],
      "execution_count": 551,
      "outputs": []
    },
    {
      "cell_type": "markdown",
      "metadata": {
        "id": "y9mShNXXUXhh"
      },
      "source": [
        "# Position-wise Feed Forward Layer"
      ]
    },
    {
      "cell_type": "code",
      "metadata": {
        "id": "yBXPWolrUeYj"
      },
      "source": [
        "class PositionWiseFeedForwardLayer(nn.Module):\n",
        "    def __init__(self, d_model, ff_dim, dropout_ratio):\n",
        "        super().__init__()\n",
        "\n",
        "        self.linear1 = nn.Linear(d_model, ff_dim)\n",
        "        self.linear2 = nn.Linear(ff_dim, d_model)\n",
        "\n",
        "        self.dropout = nn.Dropout(dropout_ratio)\n",
        "\n",
        "    def forward(self, x):\n",
        "\n",
        "        # x: [batch_size, seq_len, d_model]\n",
        "      \n",
        "        x = self.dropout(nn.functional.gelu(self.linear1(x))) # relu -> gelu\n",
        "\n",
        "        # x: [batch_size, seq_len, ff_dim]\n",
        "\n",
        "        x = self.linear2(x)\n",
        "\n",
        "        # x: [batch_size, seq_len, d_model]\n",
        "\n",
        "        return x"
      ],
      "execution_count": 552,
      "outputs": []
    },
    {
      "cell_type": "markdown",
      "metadata": {
        "id": "z4hDc3YiUgXZ"
      },
      "source": [
        "# Encoder Layer"
      ]
    },
    {
      "cell_type": "code",
      "metadata": {
        "id": "uTPD0jEbe1bx"
      },
      "source": [
        "class EncoderLayer(nn.Module):\n",
        "    def __init__(self, d_model, nhead, ff_dim, dropout_ratio):\n",
        "        super().__init__()\n",
        "\n",
        "        self.layerNorm1 = nn.LayerNorm(d_model)\n",
        "        self.layerNorm2 = nn.LayerNorm(d_model)\n",
        "        self.multiHeadAttentionLayer = MultiHeadAttentionLayer(d_model, nhead, dropout_ratio)\n",
        "        self.positionWiseFeedForward = PositionWiseFeedForwardLayer(d_model, ff_dim, dropout_ratio)\n",
        "        self.dropout = nn.Dropout(dropout_ratio)\n",
        "\n",
        "    def forward(self, src):\n",
        "\n",
        "        # src: [batch_size, src_len, d_model]\n",
        "\n",
        "        _src = self.layerNorm1(src) # layer norm 순서 바뀜.\n",
        "\n",
        "        # self attention 이므로 query, key, value 전부 동일\n",
        "        _src, a = self.multiHeadAttentionLayer(_src, _src, _src)\n",
        "\n",
        "        src = src + self.dropout(_src)\n",
        "\n",
        "        _src = self.layerNorm2(src)\n",
        "\n",
        "        # src: [batch_size, src_len, d_model]\n",
        "\n",
        "        _src = self.positionWiseFeedForward(_src)\n",
        "\n",
        "        # dropout to the output of each sub-layer, before it is added to the sub-layer input and normalized\n",
        "        src = src + self.dropout(_src)\n",
        "\n",
        "        # src: [batch_size, src_len, d_model]\n",
        "\n",
        "        return src, a"
      ],
      "execution_count": 553,
      "outputs": []
    },
    {
      "cell_type": "markdown",
      "metadata": {
        "id": "Gz9_mr_kUimN"
      },
      "source": [
        "# Encoder"
      ]
    },
    {
      "cell_type": "code",
      "metadata": {
        "id": "LAd_op0bVhn-"
      },
      "source": [
        "class Encoder(nn.Module):\n",
        "    def __init__(self, d_model, n_layers, nhead, ff_dim, dropout_ratio):\n",
        "        super().__init__()\n",
        "\n",
        "        # EncoderLayer 을 n_layers 만큼 반복.\n",
        "        self.layers = nn.ModuleList([EncoderLayer(d_model, nhead, ff_dim, dropout_ratio) for _ in range(n_layers)])\n",
        "\n",
        "    def forward(self, src):\n",
        "\n",
        "        # src: [batch_size, src_len]\n",
        "\n",
        "        for layer in self.layers:\n",
        "            src, a = layer(src)\n",
        "\n",
        "        # src: [batch_size, src_len, d_model]\n",
        "\n",
        "        return src, a"
      ],
      "execution_count": 554,
      "outputs": []
    },
    {
      "cell_type": "markdown",
      "metadata": {
        "id": "rFKtUBx27Pmj"
      },
      "source": [
        "# Patch maker & Flatten"
      ]
    },
    {
      "cell_type": "code",
      "metadata": {
        "id": "u2UiikUm7PGA"
      },
      "source": [
        "# 우선은 image, patch 모두 정사각형 shpae 임을 가정.\n",
        "\n",
        "class ImageEmbedding(nn.Module):\n",
        "  def __init__(self, channel, patch_size, D):\n",
        "    super().__init__()\n",
        "    # image 를 patch 단위로 나눈 뒤 [batch_size, patch 개수, patch크기*channel수] 로 shape 만들기\n",
        "    self.rearrange = Rearrange('b c (num_w p1) (num_h p2) -> b (num_w num_h) (p1 p2 c) ', p1=patch_size, p2=patch_size)\n",
        "    # 임베딩 작업 [batch_size, patch 개수, patch크기*chaennel수] -> [batch_size, patch 개수, embed_dim]\n",
        "    self.linear = nn.Linear(channel*patch_size*patch_size, D)\n",
        "\n",
        "    self.cls_token = nn.Parameter(torch.randn(1, 1, D))\n",
        "\n",
        "  def forward(self, image):\n",
        "\n",
        "    b, c, w, h = image.shape\n",
        "\n",
        "    # image: [batch_size, channel, width, height]\n",
        "\n",
        "    # num_w = w / p1\n",
        "    # num_h = h / p2\n",
        "    # n = num_w * num_h = (w*h) / (p1*p2)\n",
        "    flatten_patches = self.rearrange(image)\n",
        "    embedded_patches = self.linear(flatten_patches)\n",
        "    \n",
        "    cls_tokens = repeat(self.cls_token, 'b n d -> (b repeat) n d', repeat=b) # class token 추가.\n",
        "    embedded_patches = torch.cat((cls_tokens, embedded_patches), dim=1)\n",
        "\n",
        "    return embedded_patches\n",
        "\n",
        "\n"
      ],
      "execution_count": 555,
      "outputs": []
    },
    {
      "cell_type": "markdown",
      "metadata": {
        "id": "H95PTxccUtnV"
      },
      "source": [
        "# Token & Positional Embedding"
      ]
    },
    {
      "cell_type": "code",
      "metadata": {
        "id": "daBXLIF27xkC"
      },
      "source": [
        "class TokPosEmbedding(nn.Module):\n",
        "  def __init__(self, c, p, d_model, dropout_ratio):\n",
        "    super().__init__()\n",
        "    self.tokEmbedding = ImageEmbedding(c, p, d_model)\n",
        "    self.posEmbedding = nn.Embedding(100, d_model) # cos & sin positional encoding 대신, learnable positional embedding 으로 구현. (max patch 수 100)\n",
        "    self.d_model = d_model\n",
        "    self.dropout = nn.Dropout(dropout_ratio)\n",
        "\n",
        "  def forward(self, src):\n",
        "\n",
        "    # src: [batch_size, width, height, channel]\n",
        "\n",
        "    src = self.tokEmbedding(src)\n",
        "\n",
        "    # src: [batch_size, src_len, d_model]\n",
        "\n",
        "    batch_size = src.shape[0]\n",
        "    src_len = src.shape[1]\n",
        "\n",
        "    # 0 ~ src_len 등차 수열값 을 bactch 한개와 동일한 shape으로 생성 (positional embedding)\n",
        "    pos = torch.arange(0, src_len, dtype=dtype) # pos: [src_len]\n",
        "    pos = repeat(pos, 'l -> b l', b=batch_size).to(device) # pos: [batch_size, src_len]\n",
        "\n",
        "    src = self.dropout(src * float(np.sqrt(self.d_model)) + self.posEmbedding(pos))\n",
        "    # Dropout, when used, is applied after every dense layer except for the the qkv-projections and directly after adding positional- to patch embeddings\n",
        "\n",
        "    # src: [batch_size, src_len, d_model]\n",
        "\n",
        "    return src"
      ],
      "execution_count": 556,
      "outputs": []
    },
    {
      "cell_type": "markdown",
      "metadata": {
        "id": "dEq9zN7rU1gn"
      },
      "source": [
        "# VisionTransformer"
      ]
    },
    {
      "cell_type": "code",
      "metadata": {
        "id": "hBGN8VyvW0Et"
      },
      "source": [
        "class VisionTransformer(nn.Module):\n",
        "    def __init__(self, c, p, d_model, n_layers, nhead, ff_dim, dropout_ratio, output_dim):\n",
        "        super().__init__()\n",
        "\n",
        "        self.encEmbedding = TokPosEmbedding(c, p, d_model, dropout_ratio)\n",
        "        self.encoder = Encoder(d_model, n_layers, nhead, ff_dim, dropout_ratio)\n",
        "        self.layerNorm = nn.LayerNorm(d_model)\n",
        "        self.linear = nn.Linear(d_model, output_dim) \n",
        "\n",
        "    def forward(self, src):\n",
        "        \n",
        "        # src: [batch_size, src_len]\n",
        "\n",
        "        src = self.encEmbedding(src)\n",
        "\n",
        "        enc_src, a = self.encoder(src)\n",
        "\n",
        "        # enc_src: [batch_size, src_len, d_model]\n",
        "\n",
        "        # classification head\n",
        "\n",
        "        enc_src = reduce(enc_src, 'b l d -> b d', 'mean') # 모든 sequence 평균.\n",
        "\n",
        "        # enc_src: [batch_size, d_model]\n",
        "\n",
        "        enc_src = self.layerNorm(enc_src)\n",
        "\n",
        "        output = self.linear(enc_src)\n",
        "\n",
        "        # output: [batch_size, output_dim]\n",
        "\n",
        "        return output, a\n"
      ],
      "execution_count": 557,
      "outputs": []
    },
    {
      "cell_type": "markdown",
      "metadata": {
        "id": "zjn6o7KAU41P"
      },
      "source": [
        "# MNIST Dataset & DataLoader"
      ]
    },
    {
      "cell_type": "code",
      "metadata": {
        "colab": {
          "base_uri": "https://localhost:8080/"
        },
        "id": "dsb2_dgXFLGm",
        "outputId": "12655976-3e78-47c6-dd57-cc8bb3b5bd07"
      },
      "source": [
        "from google.colab import drive\n",
        "drive.mount('/content/drive')\n",
        "\n",
        "import os\n",
        "os.chdir('/content/drive/MyDrive/')"
      ],
      "execution_count": 558,
      "outputs": [
        {
          "output_type": "stream",
          "text": [
            "Drive already mounted at /content/drive; to attempt to forcibly remount, call drive.mount(\"/content/drive\", force_remount=True).\n"
          ],
          "name": "stdout"
        }
      ]
    },
    {
      "cell_type": "code",
      "metadata": {
        "id": "V20NCZ8sE45D"
      },
      "source": [
        "import torchvision.datasets as dset\n",
        "import torchvision.transforms as T\n",
        "from torch.utils.data import DataLoader\n",
        "from torch.utils.data import sampler\n",
        "\n",
        "transform = T.Compose([\n",
        "                T.ToTensor(),\n",
        "                T.Normalize((0.5), (0.5))\n",
        "            ])\n",
        "\n",
        "mnist_train = dset.MNIST('dataset', train=True, download=True,\n",
        "                             transform=transform)\n",
        "\n",
        "mnist_test = dset.MNIST('dataset', train=False, download=True, \n",
        "                            transform=transform)\n",
        "\n",
        "loader_train = DataLoader(mnist_train, batch_size=64)\n",
        "loader_test = DataLoader(mnist_test, batch_size=64)"
      ],
      "execution_count": 559,
      "outputs": []
    },
    {
      "cell_type": "markdown",
      "metadata": {
        "id": "wWG8UYsCtKE7"
      },
      "source": [
        "# Trainer"
      ]
    },
    {
      "cell_type": "code",
      "metadata": {
        "id": "Mwca5L0PakP-"
      },
      "source": [
        "def trainer(model, optimizer, epochs):\n",
        "\n",
        "  model = model.to(device)\n",
        "  loss_history = []\n",
        "  loss_val_history = []\n",
        "  for e in range(epoch):\n",
        "    model.train()\n",
        "    running_loss = 0.0\n",
        "    for iters, (batch_x, batch_t) in enumerate(loader_train):\n",
        "\n",
        "      batch_x = batch_x.to(device)\n",
        "      batch_t = batch_t.to(device)\n",
        "\n",
        "      scores, a = model(batch_x)\n",
        "\n",
        "      # scores  : [batch_size , output_dim]\n",
        "      # batch_t : [batch_size]\n",
        "\n",
        "      loss = nn.functional.cross_entropy(scores, batch_t)\n",
        "      running_loss += loss\n",
        "\n",
        "      optimizer.zero_grad()\n",
        "\n",
        "      loss.backward()\n",
        "\n",
        "      torch.nn.utils.clip_grad_norm_(model.parameters(), 1) # gradient clippling\n",
        "\n",
        "      optimizer.step()\n",
        "\n",
        "      if iters % 100 == 99:\n",
        "        print('epoch[%d/%d] iter[%d/%d] loss = %.4f' % (e+1, epochs, iters, len(loader_train), loss.item()))\n",
        "        running_loss /= 100\n",
        "        loss_history.append(running_loss)\n",
        "        \n",
        "        model.eval()\n",
        "        with torch.no_grad():\n",
        "          running_loss_val = 0.0\n",
        "\n",
        "          for j, (x_val, y_val) in enumerate(loader_val):\n",
        "            x_val = x_val.to(device)\n",
        "            y_val = y_val.to(device)\n",
        "\n",
        "            scores_val, _ = model(x_val)\n",
        "            loss_val = nn.functional.cross_entropy(scores_val, y_val)\n",
        "            running_loss_val += loss_val\n",
        "\n",
        "          running_loss_val /= len(loader_val)\n",
        "          loss_val_history.append(running_loss_val)\n",
        "\n",
        "        running_loss = 0.0\n",
        "  \n",
        "  plt.plot(range(len(loss_history)), loss_history, label='train_loss')\n",
        "  plt.plot(range(len(loss_val_history)), loss_val_history, label='val_loss')\n",
        "  plt.legend()\n",
        "  "
      ],
      "execution_count": 560,
      "outputs": []
    },
    {
      "cell_type": "markdown",
      "metadata": {
        "id": "S5DUs38oVT0V"
      },
      "source": [
        "# Checker"
      ]
    },
    {
      "cell_type": "code",
      "metadata": {
        "id": "k7LWex8L3sr2"
      },
      "source": [
        "def checker(loader, model):\n",
        "\n",
        "    model.eval()\n",
        "    with torch.no_grad():\n",
        "      correct_num = 0\n",
        "      for iters, (batch_x, batch_t) in enumerate(loader):\n",
        "\n",
        "        batch_x = batch_x.to(device)\n",
        "        batch_t = batch_t.to(device)\n",
        "\n",
        "        predict, _ = model(batch_x)\n",
        "        _, predict = predict.max(1)\n",
        "\n",
        "        correct_num += (predict == batch_t).sum()\n",
        "        \n",
        "    return correct_num"
      ],
      "execution_count": 561,
      "outputs": []
    },
    {
      "cell_type": "code",
      "metadata": {
        "id": "TqU95tdHLTgg"
      },
      "source": [
        "channel = 1\n",
        "patch_size = 4\n",
        "\n",
        "d_model = 64\n",
        "n_layers = 6\n",
        "nhead = 4\n",
        "ff_dim = 1024\n",
        "dropout_ratio = 0.2\n",
        "output_dim = 10\n",
        "\n",
        "epoch = 10"
      ],
      "execution_count": 562,
      "outputs": []
    },
    {
      "cell_type": "code",
      "metadata": {
        "colab": {
          "base_uri": "https://localhost:8080/",
          "height": 1000
        },
        "id": "KaNI5qiyLVVy",
        "outputId": "47a53ca9-83fe-45c7-fcc9-7fae1b062f0f"
      },
      "source": [
        "model = VisionTransformer(channel, patch_size, d_model, n_layers, nhead, ff_dim, dropout_ratio, output_dim)\n",
        "optimizer = torch.optim.Adam(model.parameters())\n",
        "\n",
        "trainer(model, optimizer, epoch)"
      ],
      "execution_count": 563,
      "outputs": [
        {
          "output_type": "stream",
          "text": [
            "epoch[1/10] iter[99/938] loss = 1.5374\n",
            "epoch[1/10] iter[199/938] loss = 0.9746\n",
            "epoch[1/10] iter[299/938] loss = 0.5375\n",
            "epoch[1/10] iter[399/938] loss = 0.4688\n",
            "epoch[1/10] iter[499/938] loss = 0.2704\n",
            "epoch[1/10] iter[599/938] loss = 0.1914\n",
            "epoch[1/10] iter[699/938] loss = 0.3788\n",
            "epoch[1/10] iter[799/938] loss = 0.1894\n",
            "epoch[1/10] iter[899/938] loss = 0.1072\n",
            "epoch[2/10] iter[99/938] loss = 0.1352\n",
            "epoch[2/10] iter[199/938] loss = 0.1127\n",
            "epoch[2/10] iter[299/938] loss = 0.1066\n",
            "epoch[2/10] iter[399/938] loss = 0.3326\n",
            "epoch[2/10] iter[499/938] loss = 0.1523\n",
            "epoch[2/10] iter[599/938] loss = 0.1286\n",
            "epoch[2/10] iter[699/938] loss = 0.3174\n",
            "epoch[2/10] iter[799/938] loss = 0.0851\n",
            "epoch[2/10] iter[899/938] loss = 0.0647\n",
            "epoch[3/10] iter[99/938] loss = 0.0771\n",
            "epoch[3/10] iter[199/938] loss = 0.0450\n",
            "epoch[3/10] iter[299/938] loss = 0.0922\n",
            "epoch[3/10] iter[399/938] loss = 0.3374\n",
            "epoch[3/10] iter[499/938] loss = 0.1805\n",
            "epoch[3/10] iter[599/938] loss = 0.0748\n",
            "epoch[3/10] iter[699/938] loss = 0.2136\n",
            "epoch[3/10] iter[799/938] loss = 0.0343\n",
            "epoch[3/10] iter[899/938] loss = 0.0574\n",
            "epoch[4/10] iter[99/938] loss = 0.1313\n",
            "epoch[4/10] iter[199/938] loss = 0.0350\n",
            "epoch[4/10] iter[299/938] loss = 0.0441\n",
            "epoch[4/10] iter[399/938] loss = 0.1634\n",
            "epoch[4/10] iter[499/938] loss = 0.1853\n",
            "epoch[4/10] iter[599/938] loss = 0.0944\n",
            "epoch[4/10] iter[699/938] loss = 0.1544\n",
            "epoch[4/10] iter[799/938] loss = 0.0267\n",
            "epoch[4/10] iter[899/938] loss = 0.0090\n",
            "epoch[5/10] iter[99/938] loss = 0.1080\n",
            "epoch[5/10] iter[199/938] loss = 0.0801\n",
            "epoch[5/10] iter[299/938] loss = 0.0400\n",
            "epoch[5/10] iter[399/938] loss = 0.2285\n",
            "epoch[5/10] iter[499/938] loss = 0.0784\n",
            "epoch[5/10] iter[599/938] loss = 0.0590\n",
            "epoch[5/10] iter[699/938] loss = 0.0827\n",
            "epoch[5/10] iter[799/938] loss = 0.0059\n",
            "epoch[5/10] iter[899/938] loss = 0.0178\n",
            "epoch[6/10] iter[99/938] loss = 0.0831\n",
            "epoch[6/10] iter[199/938] loss = 0.0196\n",
            "epoch[6/10] iter[299/938] loss = 0.0168\n",
            "epoch[6/10] iter[399/938] loss = 0.2110\n",
            "epoch[6/10] iter[499/938] loss = 0.0785\n",
            "epoch[6/10] iter[599/938] loss = 0.0487\n",
            "epoch[6/10] iter[699/938] loss = 0.0612\n",
            "epoch[6/10] iter[799/938] loss = 0.0093\n",
            "epoch[6/10] iter[899/938] loss = 0.0478\n",
            "epoch[7/10] iter[99/938] loss = 0.0727\n",
            "epoch[7/10] iter[199/938] loss = 0.0695\n",
            "epoch[7/10] iter[299/938] loss = 0.0143\n",
            "epoch[7/10] iter[399/938] loss = 0.1121\n",
            "epoch[7/10] iter[499/938] loss = 0.0834\n",
            "epoch[7/10] iter[599/938] loss = 0.0534\n",
            "epoch[7/10] iter[699/938] loss = 0.0182\n",
            "epoch[7/10] iter[799/938] loss = 0.0263\n",
            "epoch[7/10] iter[899/938] loss = 0.0720\n",
            "epoch[8/10] iter[99/938] loss = 0.1173\n",
            "epoch[8/10] iter[199/938] loss = 0.0297\n",
            "epoch[8/10] iter[299/938] loss = 0.0119\n",
            "epoch[8/10] iter[399/938] loss = 0.0938\n",
            "epoch[8/10] iter[499/938] loss = 0.0390\n",
            "epoch[8/10] iter[599/938] loss = 0.0767\n",
            "epoch[8/10] iter[699/938] loss = 0.0228\n",
            "epoch[8/10] iter[799/938] loss = 0.0076\n",
            "epoch[8/10] iter[899/938] loss = 0.0187\n",
            "epoch[9/10] iter[99/938] loss = 0.0176\n",
            "epoch[9/10] iter[199/938] loss = 0.0156\n",
            "epoch[9/10] iter[299/938] loss = 0.0214\n",
            "epoch[9/10] iter[399/938] loss = 0.0955\n",
            "epoch[9/10] iter[499/938] loss = 0.0661\n",
            "epoch[9/10] iter[599/938] loss = 0.0199\n",
            "epoch[9/10] iter[699/938] loss = 0.0167\n",
            "epoch[9/10] iter[799/938] loss = 0.0116\n",
            "epoch[9/10] iter[899/938] loss = 0.0040\n",
            "epoch[10/10] iter[99/938] loss = 0.1194\n",
            "epoch[10/10] iter[199/938] loss = 0.0556\n",
            "epoch[10/10] iter[299/938] loss = 0.0313\n",
            "epoch[10/10] iter[399/938] loss = 0.0586\n",
            "epoch[10/10] iter[499/938] loss = 0.0588\n",
            "epoch[10/10] iter[599/938] loss = 0.0256\n",
            "epoch[10/10] iter[699/938] loss = 0.0021\n",
            "epoch[10/10] iter[799/938] loss = 0.0091\n",
            "epoch[10/10] iter[899/938] loss = 0.0028\n"
          ],
          "name": "stdout"
        },
        {
          "output_type": "display_data",
          "data": {
            "image/png": "[encoded data removed]",
            "text/plain": [
              "<Figure size 432x288 with 1 Axes>"
            ]
          },
          "metadata": {
            "tags": [],
            "needs_background": "light"
          }
        }
      ]
    },
    {
      "cell_type": "markdown",
      "metadata": {
        "id": "u1x5iY43VZIY"
      },
      "source": [
        "# Accuracy"
      ]
    },
    {
      "cell_type": "code",
      "metadata": {
        "colab": {
          "base_uri": "https://localhost:8080/"
        },
        "id": "Wdj6iQCfFWmU",
        "outputId": "30fc053f-2a47-4f73-e8cb-9727fb9fc50b"
      },
      "source": [
        "correct_num = checker(loader_train, best_model)\n",
        "acc = float(correct_num) / len(mnist_train)\n",
        "print('train accuracy %.3f%%' % (acc * 100))\n",
        "\n",
        "correct_num = checker(loader_test, best_model)\n",
        "acc = float(correct_num) / len(mnist_test)\n",
        "print('test accuracy %.3f%%' % (acc * 100))"
      ],
      "execution_count": 564,
      "outputs": [
        {
          "output_type": "stream",
          "text": [
            "train accuracy 99.023%\n",
            "test accuracy 98.330%\n"
          ],
          "name": "stdout"
        }
      ]
    },
    {
      "cell_type": "markdown",
      "metadata": {
        "id": "tBVrqfV1josD"
      },
      "source": [
        "# Visualize Attention Map"
      ]
    },
    {
      "cell_type": "code",
      "metadata": {
        "colab": {
          "base_uri": "https://localhost:8080/",
          "height": 1000
        },
        "id": "GNdVU-_eXsJr",
        "outputId": "a4186ccd-f51e-406b-f401-03280b8b8634"
      },
      "source": [
        "# reference : https://github.com/jeonsworld/ViT-pytorch/blob/main/visualize_attention_map.ipynb\n",
        "\n",
        "import cv2\n",
        "\n",
        "idxs = np.random.choice(range(len(mnist_test.data)), 10, False)\n",
        "for idx in idxs:\n",
        "  im = mnist_test.data[idx]\n",
        "  im = 255 - im\n",
        "\n",
        "  _, attention = model(im.unsqueeze(0).unsqueeze(1).to(device, torch.float))\n",
        "  attention = attention.cpu().detach()\n",
        "  attention = reduce(attention, 'b h len1 len2 -> len1 len2', 'mean')\n",
        "\n",
        "  # To account for residual connections, we add an identity matrix to the\n",
        "  # attention matrix and re-normalize the weights.\n",
        "  residual_att = torch.eye(attention.size(1))\n",
        "  aug_attention = attention + residual_att\n",
        "  aug_attention = aug_attention / aug_attention.sum(dim=-1).unsqueeze(-1)\n",
        "\n",
        "  # Recursively multiply the weight matrices\n",
        "  joint_attentions = torch.zeros(aug_attention.size())\n",
        "  joint_attentions[0] = aug_attention[0]\n",
        "\n",
        "  for n in range(1, aug_attention.size(0)):\n",
        "      joint_attentions[n] = torch.matmul(aug_attention[n], joint_attentions[n-1])\n",
        "\n",
        "  # Attention from the output token to the input space.\n",
        "  v = joint_attentions\n",
        "  grid_size = int(np.sqrt(aug_attention.size(-1)))\n",
        "  mask = v[0, 1:].reshape(grid_size, grid_size).detach().numpy()\n",
        "  mask = cv2.resize(mask / mask.max(), im.shape)[..., np.newaxis]\n",
        "\n",
        "  result = (mask.squeeze() * im.numpy()).astype(\"uint8\")\n",
        "\n",
        "  fig, (ax1, ax2) = plt.subplots(ncols=2, figsize=(16, 16))\n",
        "\n",
        "  ax1.set_title('Original')\n",
        "  ax2.set_title('Attention Map')\n",
        "  _ = ax1.imshow(im)\n",
        "  _ = ax2.imshow(result)"
      ],
      "execution_count": 565,
      "outputs": [
        {
          "output_type": "display_data",
          "data": {
            "image/png": "[encoded data removed]",
            "text/plain": [
              "<Figure size 1152x1152 with 2 Axes>"
            ]
          },
          "metadata": {
            "tags": [],
            "needs_background": "light"
          }
        },
        {
          "output_type": "display_data",
          "data": {
            "image/png": "[encoded data removed]",
            "text/plain": [
              "<Figure size 1152x1152 with 2 Axes>"
            ]
          },
          "metadata": {
            "tags": [],
            "needs_background": "light"
          }
        },
        {
          "output_type": "display_data",
          "data": {
            "image/png": "[encoded data removed]",
            "text/plain": [
              "<Figure size 1152x1152 with 2 Axes>"
            ]
          },
          "metadata": {
            "tags": [],
            "needs_background": "light"
          }
        },
        {
          "output_type": "display_data",
          "data": {
            "image/png": "[encoded data removed]",
            "text/plain": [
              "<Figure size 1152x1152 with 2 Axes>"
            ]
          },
          "metadata": {
            "tags": [],
            "needs_background": "light"
          }
        },
        {
          "output_type": "display_data",
          "data": {
            "image/png": "[encoded data removed]",
            "text/plain": [
              "<Figure size 1152x1152 with 2 Axes>"
            ]
          },
          "metadata": {
            "tags": [],
            "needs_background": "light"
          }
        },
        {
          "output_type": "display_data",
          "data": {
            "image/png": "[encoded data removed]",
            "text/plain": [
              "<Figure size 1152x1152 with 2 Axes>"
            ]
          },
          "metadata": {
            "tags": [],
            "needs_background": "light"
          }
        },
        {
          "output_type": "display_data",
          "data": {
            "image/png": "[encoded data removed]",
            "text/plain": [
              "<Figure size 1152x1152 with 2 Axes>"
            ]
          },
          "metadata": {
            "tags": [],
            "needs_background": "light"
          }
        },
        {
          "output_type": "display_data",
          "data": {
            "image/png": "[encoded data removed]",
            "text/plain": [
              "<Figure size 1152x1152 with 2 Axes>"
            ]
          },
          "metadata": {
            "tags": [],
            "needs_background": "light"
          }
        },
        {
          "output_type": "display_data",
          "data": {
            "image/png": "[encoded data removed]",
            "text/plain": [
              "<Figure size 1152x1152 with 2 Axes>"
            ]
          },
          "metadata": {
            "tags": [],
            "needs_background": "light"
          }
        },
        {
          "output_type": "display_data",
          "data": {
            "image/png": "[encoded data removed]",
            "text/plain": [
              "<Figure size 1152x1152 with 2 Axes>"
            ]
          },
          "metadata": {
            "tags": [],
            "needs_background": "light"
          }
        }
      ]
    }
  ]
}